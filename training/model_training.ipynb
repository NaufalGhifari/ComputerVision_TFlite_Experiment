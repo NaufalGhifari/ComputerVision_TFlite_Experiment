{
 "cells": [
  {
   "cell_type": "markdown",
   "metadata": {},
   "source": [
    "## Train a model based on the pre-trained Nano model (yolov8n)"
   ]
  },
  {
   "cell_type": "code",
   "execution_count": null,
   "metadata": {},
   "outputs": [],
   "source": [
    "from ultralytics import YOLO\n",
    "\n",
    "# define a model\n",
    "model = YOLO('yolov8n.pt')\n",
    "\n",
    "# train the model\n",
    "myModel = model.train(data='training_data.yaml', epochs=50, imgsz=640)"
   ]
  }
 ],
 "metadata": {
  "language_info": {
   "name": "python"
  }
 },
 "nbformat": 4,
 "nbformat_minor": 2
}
